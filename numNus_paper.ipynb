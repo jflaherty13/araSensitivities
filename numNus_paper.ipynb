{
 "cells": [
  {
   "cell_type": "code",
   "execution_count": 192,
   "metadata": {},
   "outputs": [],
   "source": [
    "import neutrino_plots\n",
    "from limits_paper import LimitFigure, ara_energies, ara_available, ara_projected, count_neutrinos\n",
    "import numpy as np\n",
    "import matplotlib.pyplot as plt\n",
    "import importlib\n",
    "import limits_paper\n",
    "importlib.reload(limits_paper)\n",
    "\n",
    "ara_energies = np.array([1.00000000e+07, 3.16227766e+07, 1.00000000e+08, 3.16227766e+08, 1.00000000e+09,\n",
    "       3.16227766e+09, 1.00000000e+10, 3.16227766e+10, 1.00000000e+11, 3.16227766e+11, 1.00000000e+12])\n",
    "# eff = np.array([3.03, 2.64, 2.64, 2.45, 2.52, 2.45, 2.47, 2.46, 2.44, 2.46, 2.44])"
   ]
  },
  {
   "cell_type": "code",
   "execution_count": 257,
   "metadata": {},
   "outputs": [],
   "source": [
    "fluxes = {\n",
    "    #    \"IceCube $E^{-2.19}$ Extrapolated\": lambda e: LimitFigure._i3_nu_fit(e, slope=-2.19, offset=1.01),\n",
    "        \"100% protons, Ahlers & Halzen\": neutrino_plots.kotera_FRII\n",
    "    }\n",
    "\n",
    "styles = {\n",
    "#     \"SFR $E_{max}=10^{21.5}$, Kotera et al.\": \"deeppink.--\",\n",
    "#     \"SFR $E_{max}=10^{20.5}$, Kotera et al.\": \"darkmagenta.--\",\n",
    "#     \"IceCube $E^{-2.19}$ Extrapolated\": \"dodgerblue.-\",\n",
    "}\n",
    "\n"
   ]
  },
  {
   "cell_type": "code",
   "execution_count": 258,
   "metadata": {},
   "outputs": [],
   "source": [
    "veffs = ara_energies"
   ]
  },
  {
   "cell_type": "code",
   "execution_count": 259,
   "metadata": {},
   "outputs": [],
   "source": [
    "for flux in fluxes:\n",
    "#         detections[flux] = [0]\n",
    "#         for i, year in enumerate(years[1:]):\n",
    "            nus = count_neutrinos(fluxes[flux], stations=1, years=1) * 1e4\n",
    "#             detections[flux].append(np.sum(nus))"
   ]
  },
  {
   "cell_type": "code",
   "execution_count": 260,
   "metadata": {},
   "outputs": [
    {
     "data": {
      "text/plain": [
       "array([1.57248096e-04, 1.85300748e-03, 9.24575089e-03, 8.65268767e-02,\n",
       "       3.29359213e-01, 4.88611932e-01, 4.37831804e-01, 2.60102815e-01,\n",
       "       9.02015974e-02, 1.25072908e-02, 3.75724597e-04])"
      ]
     },
     "execution_count": 260,
     "metadata": {},
     "output_type": "execute_result"
    }
   ],
   "source": [
    "count_neutrinos(fluxes[flux], stations=2, years=4)"
   ]
  },
  {
   "cell_type": "code",
   "execution_count": 261,
   "metadata": {},
   "outputs": [
    {
     "data": {
      "text/plain": [
       "1.7167732597268917"
      ]
     },
     "execution_count": 261,
     "metadata": {},
     "output_type": "execute_result"
    }
   ],
   "source": [
    "sum(count_neutrinos(fluxes[flux], stations=2, years=4))"
   ]
  },
  {
   "cell_type": "code",
   "execution_count": null,
   "metadata": {},
   "outputs": [],
   "source": []
  }
 ],
 "metadata": {
  "kernelspec": {
   "display_name": "Python 3.6 (Conda 5.2) [python/3.6-conda5.2]",
   "language": "python",
   "name": "sys_python36conda"
  },
  "language_info": {
   "codemirror_mode": {
    "name": "ipython",
    "version": 3
   },
   "file_extension": ".py",
   "mimetype": "text/x-python",
   "name": "python",
   "nbconvert_exporter": "python",
   "pygments_lexer": "ipython3",
   "version": "3.6.6"
  }
 },
 "nbformat": 4,
 "nbformat_minor": 2
}
